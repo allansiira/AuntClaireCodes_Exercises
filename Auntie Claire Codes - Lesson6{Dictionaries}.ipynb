{
 "cells": [
  {
   "cell_type": "code",
   "execution_count": 1,
   "metadata": {},
   "outputs": [],
   "source": [
    "my_dict = {\"key1\":\"value1\",\"key2\":\"value2\",\"key3\":\"value3\"}"
   ]
  },
  {
   "cell_type": "code",
   "execution_count": 2,
   "metadata": {},
   "outputs": [
    {
     "data": {
      "text/plain": [
       "'value3'"
      ]
     },
     "execution_count": 2,
     "metadata": {},
     "output_type": "execute_result"
    }
   ],
   "source": [
    "my_dict[\"key3\"]"
   ]
  },
  {
   "cell_type": "code",
   "execution_count": 3,
   "metadata": {},
   "outputs": [
    {
     "data": {
      "text/plain": [
       "'value3'"
      ]
     },
     "execution_count": 3,
     "metadata": {},
     "output_type": "execute_result"
    }
   ],
   "source": [
    "my_dict.get(\"key3\")"
   ]
  },
  {
   "cell_type": "code",
   "execution_count": 4,
   "metadata": {},
   "outputs": [],
   "source": [
    "d = {\"a\":\"letter a\",\n",
    "    \"name\":\"Claire\",\n",
    "    \"age\":35,\n",
    "    \"schools\":{\"Solomon\":\"kibuli\",\"Shady\":\"Ndejje\",\"Michelle\":\"Nabbingo\"},\n",
    "    \"numbers\":[1,2,3,4,5,6,7],\n",
    "    \"letters\":[\"a\",\"b\",\"c\"]\n",
    "    }"
   ]
  },
  {
   "cell_type": "code",
   "execution_count": 6,
   "metadata": {},
   "outputs": [
    {
     "data": {
      "text/plain": [
       "'kibuli'"
      ]
     },
     "execution_count": 6,
     "metadata": {},
     "output_type": "execute_result"
    }
   ],
   "source": [
    "# which school does Solomon attend?\n",
    "\n",
    "d[\"schools\"][\"Solomon\"]"
   ]
  },
  {
   "cell_type": "code",
   "execution_count": 7,
   "metadata": {},
   "outputs": [
    {
     "ename": "KeyError",
     "evalue": "'michelle'",
     "output_type": "error",
     "traceback": [
      "\u001b[0;31m---------------------------------------------------------------------------\u001b[0m",
      "\u001b[0;31mKeyError\u001b[0m                                  Traceback (most recent call last)",
      "\u001b[0;32m<ipython-input-7-56df8669de66>\u001b[0m in \u001b[0;36m<module>\u001b[0;34m\u001b[0m\n\u001b[1;32m      1\u001b[0m \u001b[0;31m# which school does Michelle attend?\u001b[0m\u001b[0;34m\u001b[0m\u001b[0;34m\u001b[0m\u001b[0;34m\u001b[0m\u001b[0m\n\u001b[1;32m      2\u001b[0m \u001b[0;34m\u001b[0m\u001b[0m\n\u001b[0;32m----> 3\u001b[0;31m \u001b[0md\u001b[0m\u001b[0;34m[\u001b[0m\u001b[0;34m\"schools\"\u001b[0m\u001b[0;34m]\u001b[0m\u001b[0;34m[\u001b[0m\u001b[0;34m\"michelle\"\u001b[0m\u001b[0;34m]\u001b[0m\u001b[0;34m\u001b[0m\u001b[0;34m\u001b[0m\u001b[0m\n\u001b[0m",
      "\u001b[0;31mKeyError\u001b[0m: 'michelle'"
     ]
    }
   ],
   "source": [
    "# which school does Michelle attend?\n",
    "\n",
    "d[\"schools\"][\"michelle\"]"
   ]
  },
  {
   "cell_type": "markdown",
   "metadata": {},
   "source": [
    "You notice a KeyError instead of writing \"michelle\" change it to \"Michelle\""
   ]
  },
  {
   "cell_type": "code",
   "execution_count": 8,
   "metadata": {},
   "outputs": [
    {
     "data": {
      "text/plain": [
       "'Nabbingo'"
      ]
     },
     "execution_count": 8,
     "metadata": {},
     "output_type": "execute_result"
    }
   ],
   "source": [
    "d[\"schools\"][\"Michelle\"]"
   ]
  },
  {
   "cell_type": "code",
   "execution_count": 9,
   "metadata": {},
   "outputs": [],
   "source": [
    "d = {\"a\":\"letter a\",\n",
    "    \"name\":\"Claire\",\n",
    "    \"age\":35,\n",
    "    \"schools\":{\"Solomon\":\"kibuli\",\"Shady\":\"Ndejje\",\"Michelle\":\"Nabbingo\"},\n",
    "    \"numbers\":[1,2,3,4,5,6,7],\n",
    "    \"letters\":[\"a\",\"b\",\"c\"]\n",
    "    }"
   ]
  },
  {
   "cell_type": "code",
   "execution_count": 10,
   "metadata": {},
   "outputs": [],
   "source": [
    "# Add an item\n",
    "\n",
    "d[\"sets\"] = 30"
   ]
  },
  {
   "cell_type": "code",
   "execution_count": 11,
   "metadata": {},
   "outputs": [
    {
     "data": {
      "text/plain": [
       "{'a': 'letter a',\n",
       " 'name': 'Claire',\n",
       " 'age': 35,\n",
       " 'schools': {'Solomon': 'kibuli', 'Shady': 'Ndejje', 'Michelle': 'Nabbingo'},\n",
       " 'numbers': [1, 2, 3, 4, 5, 6, 7],\n",
       " 'letters': ['a', 'b', 'c'],\n",
       " 'sets': 30}"
      ]
     },
     "execution_count": 11,
     "metadata": {},
     "output_type": "execute_result"
    }
   ],
   "source": [
    "d"
   ]
  },
  {
   "cell_type": "code",
   "execution_count": 12,
   "metadata": {},
   "outputs": [
    {
     "data": {
      "text/plain": [
       "{'a': 'letter a',\n",
       " 'name': 'Claire',\n",
       " 'age': 35,\n",
       " 'schools': {'Solomon': 'kibuli', 'Shady': 'Ndejje', 'Michelle': 'Nabbingo'},\n",
       " 'numbers': [1, 2, 3, 4, 5, 6, 7],\n",
       " 'letters': ['a', 'b', 'c'],\n",
       " 'sets': 'replaced'}"
      ]
     },
     "execution_count": 12,
     "metadata": {},
     "output_type": "execute_result"
    }
   ],
   "source": [
    "d[\"sets\"] = \"replaced\"\n",
    "d"
   ]
  },
  {
   "cell_type": "code",
   "execution_count": 13,
   "metadata": {},
   "outputs": [
    {
     "name": "stdout",
     "output_type": "stream",
     "text": [
      "{'a': 'letter a', 'name': 'Claire', 'age': 35, 'schools': {'Solomon': 'kibuli', 'Shady': 'Ndejje', 'Michelle': 'Nabbingo'}, 'numbers': [1, 2, 3, 4, 5, 6, 7], 'sets': 'replaced'}\n"
     ]
    }
   ],
   "source": [
    "# deleting items \n",
    "\n",
    "del d[\"letters\"]\n",
    "print(d)"
   ]
  },
  {
   "cell_type": "code",
   "execution_count": 15,
   "metadata": {},
   "outputs": [
    {
     "data": {
      "text/plain": [
       "dict_values(['value1', 'value2', 'value3'])"
      ]
     },
     "execution_count": 15,
     "metadata": {},
     "output_type": "execute_result"
    }
   ],
   "source": [
    "my_dict = {\"key1\":\"value1\",\"key2\":\"value2\",\"key3\":\"value3\"}\n",
    "\n",
    "# method called .values()\n",
    "\n",
    "my_dict.values()"
   ]
  },
  {
   "cell_type": "code",
   "execution_count": 16,
   "metadata": {},
   "outputs": [
    {
     "data": {
      "text/plain": [
       "dict_keys(['key1', 'key2', 'key3'])"
      ]
     },
     "execution_count": 16,
     "metadata": {},
     "output_type": "execute_result"
    }
   ],
   "source": [
    "#method keys()\n",
    "\n",
    "my_dict.keys()"
   ]
  },
  {
   "cell_type": "code",
   "execution_count": 17,
   "metadata": {},
   "outputs": [
    {
     "data": {
      "text/plain": [
       "dict_items([('key1', 'value1'), ('key2', 'value2'), ('key3', 'value3')])"
      ]
     },
     "execution_count": 17,
     "metadata": {},
     "output_type": "execute_result"
    }
   ],
   "source": [
    "#method items()\n",
    "\n",
    "my_dict.items()"
   ]
  },
  {
   "cell_type": "markdown",
   "metadata": {},
   "source": [
    "Exercise:\n",
    "\n",
    "Use Anaconda Jupyter Notebook:\n",
    "\n",
    "1. Give me your understanding of lists and dictionaries\n",
    "2. Provide the similarities between lists and dictionaries\n",
    "3. Give the differences between lists and dictionaries  \n",
    " \n",
    " NB\n",
    " Please provide an explaination with examples(lines of code)"
   ]
  },
  {
   "cell_type": "code",
   "execution_count": 2,
   "metadata": {},
   "outputs": [
    {
     "name": "stdout",
     "output_type": "stream",
     "text": [
      "['allan', 'stella', 'esther']\n"
     ]
    }
   ],
   "source": [
    "# Qn 1. Give me your understanding of lists and dictionaries.\n",
    "# Lists are ordered collection of data objects. They are defined in Python by enclosing a sequence of objects in square brackets [].\n",
    "ex = ['allan','stella','esther']\n",
    "print(ex)"
   ]
  },
  {
   "cell_type": "code",
   "execution_count": 8,
   "metadata": {},
   "outputs": [
    {
     "name": "stdout",
     "output_type": "stream",
     "text": [
      "allan\n",
      "['allan', 0.123, 'stella', 'esther', 456]\n",
      "['landrover', 'rollsroyce', ['allan', 'stella', 'esther'], 'toyota']\n",
      "esther\n"
     ]
    }
   ],
   "source": [
    "# Some of the characteristics of lists are: \n",
    "# mutable(list elements can be changed at anytime in the program. ), \n",
    "# ordered(the order in which one specifies list elements when being defined is maintained throughout a list's lifetime )\n",
    "# list elements are accessed using index where zero'0' is the index of the first element.\n",
    "# lists can be nested meaning a given list can have another list within.\n",
    "# lists can contain elements of the same type or varying types of elements all in one list.\n",
    "a = ex[0]\n",
    "b = ['allan',0.123,'stella','esther',456]\n",
    "c = ['landrover','rollsroyce',['allan','stella','esther'],'toyota']\n",
    "d = c[2][2]\n",
    "print(a)\n",
    "print(b)\n",
    "print(c)\n",
    "print(d)"
   ]
  },
  {
   "cell_type": "code",
   "execution_count": 11,
   "metadata": {},
   "outputs": [
    {
     "name": "stdout",
     "output_type": "stream",
     "text": [
      "['landrover', 'rollsroyce', ['allan', 'stella', 'esther'], 'REPLACED']\n"
     ]
    }
   ],
   "source": [
    "c[-1] = 'REPLACED'\n",
    "print(c)"
   ]
  },
  {
   "cell_type": "code",
   "execution_count": 22,
   "metadata": {},
   "outputs": [
    {
     "name": "stdout",
     "output_type": "stream",
     "text": [
      "allan\n"
     ]
    }
   ],
   "source": [
    "# Dictionaries are collections or key-value pairs where each pair maps the key to its associated value\n",
    "# One can define a dictionary by enclosing a list of key-value pairs in curly braces {}. This is as shown below:\n",
    "di = {'name':'allan','school':'UCU','year':'3'}\n",
    "print(di['name'])"
   ]
  },
  {
   "cell_type": "code",
   "execution_count": 27,
   "metadata": {},
   "outputs": [
    {
     "name": "stdout",
     "output_type": "stream",
     "text": [
      "{'name': 'allan', 'school': 'UCU', 'year': '3'}\n"
     ]
    }
   ],
   "source": [
    "# Some of the characteristics of dictionaries are:\n",
    "# Dictionaries can be ordered(python V 3.7) and unordered(python V 3.6 and earlier) in regard to the version of python one is using\n",
    "# Dictionaries are case sensitive. Same key names with different case letters are treated as seperate keys.\n",
    "# Dictionaries are changeable where one can add, remove or replace dictionary elements after it has been created.\n",
    "# Dictionaries do not allow duplicates. Duplicate values will overwrite existing ones.\n",
    "print(di)"
   ]
  },
  {
   "cell_type": "code",
   "execution_count": 30,
   "metadata": {},
   "outputs": [
    {
     "name": "stdout",
     "output_type": "stream",
     "text": [
      "{'name': 'allan', 'school': 'MUK', 'year': '3'}\n"
     ]
    }
   ],
   "source": [
    "di = {'name':'allan','school':'UCU','year':'3','school':'MUK'}\n",
    "print(di)"
   ]
  },
  {
   "cell_type": "code",
   "execution_count": 32,
   "metadata": {},
   "outputs": [
    {
     "name": "stdout",
     "output_type": "stream",
     "text": [
      "MUK\n"
     ]
    }
   ],
   "source": [
    "print(di['school'])"
   ]
  },
  {
   "cell_type": "code",
   "execution_count": 34,
   "metadata": {},
   "outputs": [
    {
     "ename": "KeyError",
     "evalue": "'School'",
     "output_type": "error",
     "traceback": [
      "\u001b[1;31m---------------------------------------------------------------------------\u001b[0m",
      "\u001b[1;31mKeyError\u001b[0m                                  Traceback (most recent call last)",
      "\u001b[1;32m~\\AppData\\Local\\Temp/ipykernel_6608/3773584062.py\u001b[0m in \u001b[0;36m<module>\u001b[1;34m\u001b[0m\n\u001b[1;32m----> 1\u001b[1;33m \u001b[0mprint\u001b[0m\u001b[1;33m(\u001b[0m\u001b[0mdi\u001b[0m\u001b[1;33m[\u001b[0m\u001b[1;34m'School'\u001b[0m\u001b[1;33m]\u001b[0m\u001b[1;33m)\u001b[0m\u001b[1;33m\u001b[0m\u001b[1;33m\u001b[0m\u001b[0m\n\u001b[0m",
      "\u001b[1;31mKeyError\u001b[0m: 'School'"
     ]
    }
   ],
   "source": [
    "print(di['School'])"
   ]
  },
  {
   "cell_type": "code",
   "execution_count": 42,
   "metadata": {},
   "outputs": [
    {
     "name": "stdout",
     "output_type": "stream",
     "text": [
      "[0.123, False, 'gladys', 365]\n",
      "{'float': 3.312, 'bolean': True, 'strng': 'allan', 'integer': 765}\n"
     ]
    }
   ],
   "source": [
    "# Qn 2. Provide the similarities between lists and dictionaries\n",
    "# Both can contain element values of the same type or varying types i.e. elements can be boleans only, strings only or boleans and strings together \n",
    "# Both lists and dictionaries are mutable\n",
    "exmp1 = [0.123,False,'gladys',365]\n",
    "exmp2 = {'float':3.312,'bolean':True,'strng':'allan','integer':765}\n",
    "print(exmp1)\n",
    "print(exmp2)"
   ]
  },
  {
   "cell_type": "code",
   "execution_count": 51,
   "metadata": {},
   "outputs": [
    {
     "name": "stdout",
     "output_type": "stream",
     "text": [
      "[20, 31, 52, 33, 64]\n",
      "{'boy1': 'allan', 'boy2': 'peter', 'girl1': 'gladys', 'float': 0.123, 'girl2': 'stella'}\n"
     ]
    }
   ],
   "source": [
    "# Qn 3. Give the differences between lists and dictionaries\n",
    "# List is a sequential data type consisting of index values while a dictionary is a mapping datatype consisting of key-value pairs.\n",
    "# Lists maintain their ordering unless re-ordered (for example, by sorting the list) while a dictionary's Ordering is not guaranteed\n",
    "# List elements are accessed using numerical indicies while dictionary elements are accessed using key values\n",
    "# Lists are defined by enclosing a sequence of objects in square brackets [] while dictionaries are defined by enclosing a list of key-value pairs in curly braces {}\n",
    "# Lists can be nested within other lists while a dictionary can not be nested within another dictionary\n",
    "myList = [20,31,52,33,64]\n",
    "myDict = {'boy1':'allan','boy2':'peter','girl1':'gladys','float':0.123,'girl2':'stella'}\n",
    "print(myList)\n",
    "print(myDict)"
   ]
  },
  {
   "cell_type": "code",
   "execution_count": 52,
   "metadata": {},
   "outputs": [
    {
     "name": "stdout",
     "output_type": "stream",
     "text": [
      "20\n",
      "[31, 52]\n"
     ]
    }
   ],
   "source": [
    "print(myList[0]) #index in a list starts at zero'0'. One can access the first element using 0.\n",
    "print(myList[1:3])"
   ]
  },
  {
   "cell_type": "code",
   "execution_count": 54,
   "metadata": {},
   "outputs": [
    {
     "name": "stdout",
     "output_type": "stream",
     "text": [
      "gladys\n"
     ]
    }
   ],
   "source": [
    "#girl1 is the key for the value gladys in this dictionary and this is how it can be accessed\n",
    "print(myDict['girl1'])"
   ]
  },
  {
   "cell_type": "code",
   "execution_count": 56,
   "metadata": {},
   "outputs": [
    {
     "ename": "SyntaxError",
     "evalue": "invalid syntax (Temp/ipykernel_6608/1332622392.py, line 1)",
     "output_type": "error",
     "traceback": [
      "\u001b[1;36m  File \u001b[1;32m\"C:\\Users\\ALAN\\AppData\\Local\\Temp/ipykernel_6608/1332622392.py\"\u001b[1;36m, line \u001b[1;32m1\u001b[0m\n\u001b[1;33m    myDict1 = {'boy1':'allan','boy2':'peter','girl1':'gladys',{'try':'one','trial':'two'},'float':0.123,'girl2':'stella'}\u001b[0m\n\u001b[1;37m                                                                                         ^\u001b[0m\n\u001b[1;31mSyntaxError\u001b[0m\u001b[1;31m:\u001b[0m invalid syntax\n"
     ]
    }
   ],
   "source": [
    "myDict1 = {'boy1':'allan','boy2':'peter','girl1':'gladys',{'try':'one','trial':'two'},'float':0.123,'girl2':'stella'}"
   ]
  }
 ],
 "metadata": {
  "kernelspec": {
   "display_name": "Python 3 (ipykernel)",
   "language": "python",
   "name": "python3"
  },
  "language_info": {
   "codemirror_mode": {
    "name": "ipython",
    "version": 3
   },
   "file_extension": ".py",
   "mimetype": "text/x-python",
   "name": "python",
   "nbconvert_exporter": "python",
   "pygments_lexer": "ipython3",
   "version": "3.9.7"
  }
 },
 "nbformat": 4,
 "nbformat_minor": 4
}
